{
 "cells": [
  {
   "cell_type": "code",
   "execution_count": 1,
   "metadata": {},
   "outputs": [],
   "source": [
    "#Activity 9\n",
    "\n",
    "import urllib.request, urllib.parse, urllib.error\n",
    "import requests\n",
    "from bs4 import BeautifulSoup\n",
    "import ssl\n",
    "import re\n",
    "import pandas as pd"
   ]
  },
  {
   "cell_type": "code",
   "execution_count": 2,
   "metadata": {},
   "outputs": [],
   "source": [
    "# checking SSL certificate\n",
    "ctx = ssl.create_default_context()\n",
    "ctx.check_hostname = False\n",
    "ctx.verify_mode = ssl.CERT_NONE"
   ]
  },
  {
   "cell_type": "code",
   "execution_count": 3,
   "metadata": {},
   "outputs": [],
   "source": [
    "top100url = 'https://www.gutenberg.org/browse/scores/top'     # calling on webpage to request access\n",
    "response = requests.get(top100url)"
   ]
  },
  {
   "cell_type": "code",
   "execution_count": 4,
   "metadata": {},
   "outputs": [],
   "source": [
    "def status_check(r):                            # created a function to ensure data transmitted was successful\n",
    "    if r.status_code==200:\n",
    "        print(\"Good!\")\n",
    "        return 1\n",
    "    else:\n",
    "        print(\"try again!\")\n",
    "        return -1"
   ]
  },
  {
   "cell_type": "code",
   "execution_count": 5,
   "metadata": {},
   "outputs": [],
   "source": [
    "contents = response.content.decode(response.encoding)                  # encoding the data"
   ]
  },
  {
   "cell_type": "code",
   "execution_count": 6,
   "metadata": {},
   "outputs": [],
   "source": [
    "soup = BeautifulSoup(contents, 'html.parser')                           # parsing data with beautifulsoup"
   ]
  },
  {
   "cell_type": "code",
   "execution_count": 7,
   "metadata": {},
   "outputs": [],
   "source": [
    "# Empty list to hold all the http links in the HTML page\n",
    "links=[]"
   ]
  },
  {
   "cell_type": "code",
   "execution_count": 8,
   "metadata": {},
   "outputs": [],
   "source": [
    "for link in soup.find_all('a'):                                       # getting all href tags and placing them in the \n",
    "    links.append(link.get('href'))                                    # list of links."
   ]
  },
  {
   "cell_type": "code",
   "execution_count": 9,
   "metadata": {},
   "outputs": [
    {
     "data": {
      "text/plain": [
       "['/wiki/Main_Page',\n",
       " '/catalog/',\n",
       " '/ebooks/',\n",
       " '/browse/recent/last1',\n",
       " '/browse/scores/top',\n",
       " '/wiki/Gutenberg:Offline_Catalogs',\n",
       " '/catalog/world/mybookmarks',\n",
       " '/wiki/Main_Page',\n",
       " 'https://www.paypal.com/xclick/business=donate%40gutenberg.org&item_name=Donation+to+Project+Gutenberg',\n",
       " '/wiki/Gutenberg:Project_Gutenberg_Needs_Your_Donation',\n",
       " 'http://www.ibiblio.org',\n",
       " 'http://www.pgdp.net/',\n",
       " 'pretty-pictures',\n",
       " '#books-last1',\n",
       " '#authors-last1',\n",
       " '#books-last7',\n",
       " '#authors-last7',\n",
       " '#books-last30',\n",
       " '#authors-last30',\n",
       " '/ebooks/1342',\n",
       " '/ebooks/11',\n",
       " '/ebooks/84',\n",
       " '/ebooks/74',\n",
       " '/ebooks/98',\n",
       " '/ebooks/25525',\n",
       " '/ebooks/1952',\n",
       " '/ebooks/43',\n",
       " '/ebooks/1635',\n",
       " '/ebooks/2701',\n",
       " '/ebooks/844']"
      ]
     },
     "execution_count": 9,
     "metadata": {},
     "output_type": "execute_result"
    }
   ],
   "source": [
    "links[:30]                                                           # displaying the first 30 href"
   ]
  },
  {
   "cell_type": "code",
   "execution_count": 10,
   "metadata": {},
   "outputs": [],
   "source": [
    "book_number=[]                                # creating empty list to add file numbers"
   ]
  },
  {
   "cell_type": "code",
   "execution_count": 11,
   "metadata": {},
   "outputs": [],
   "source": [
    "for i in range(19,119):\n",
    "    link= links[i]\n",
    "    link=link.strip()\n",
    "    n=re.findall('[0-9]+',link)                     # using regex expression in locating numeric values in link string\n",
    "    if len(n)==1:\n",
    "        book_number.append(int(n[0]))                    # appending to integer"
   ]
  },
  {
   "cell_type": "code",
   "execution_count": 12,
   "metadata": {},
   "outputs": [
    {
     "name": "stdout",
     "output_type": "stream",
     "text": [
      "The file numbers for the top 100 ebooks on Gutenberg:\n",
      "[1342, 11, 84, 74, 98, 25525, 1952, 43, 1635, 2701, 844, 1080, 120, 2542, 215, 76, 1661, 1250, 46, 174, 376, 5200, 514, 345, 1400, 16, 1184, 2591, 1260, 205, 2600, 55, 2852, 16328, 4300, 45, 1232, 113, 25344, 158, 2814, 36, 1064, 2500, 2097, 28054, 730, 768, 219, 27827, 1497, 160, 42324, 5740, 58585, 2554, 236, 62134, 43936, 3825, 6130, 42686, 1998, 62129, 203, 244, 3600, 35, 863, 17396, 3289, 58975, 135, 408, 996, 8800, 19942, 62123, 23700, 19033, 28860, 1399, 521, 161, 4363, 3207, 2680, 43453, 62137, 829, 33283, 766, 1001, 62117, 1727, 1322, 209, 42108, 105, 140]\n"
     ]
    }
   ],
   "source": [
    "print (\"The file numbers for the top 100 ebooks on Gutenberg:\")       # printing the file numbers\n",
    "print(book_number)"
   ]
  },
  {
   "cell_type": "code",
   "execution_count": 13,
   "metadata": {},
   "outputs": [
    {
     "name": "stdout",
     "output_type": "stream",
     "text": [
      "\n",
      "\n",
      "\n",
      "\n",
      "\n",
      "\n",
      "\n",
      "\n",
      "\n",
      "      if (top != self) {\n",
      "        top.location.replace ('http://www.gutenberg.org');\n",
      "        alert ('Project Gutenberg is a FREE service with NO membership required. If you paid somebody else to get here, make them give you your money back!');\n",
      "      }\n",
      "    \n",
      " \n",
      "Top 100 - Project Gutenberg\n",
      "\n",
      "\n",
      "\n",
      "\n",
      "\n",
      "\n",
      "\n",
      "\n",
      "Online Book Catalog\n",
      "=> \n",
      "\n",
      "\n",
      "\n",
      " Book  Search\n",
      "-- Recent  Books\n",
      "-- Top  100\n",
      "-- Offline Catalogs\n",
      "-- My Bookmarks\n",
      "\n",
      "\n",
      "Main Page\n",
      "\n",
      "\n",
      "\n",
      "\n",
      "Project Gutenberg needs your donation! \n",
      "        More Info\n",
      "\n",
      "\n",
      "\n",
      "\n",
      "\n",
      "\n",
      "\n",
      "\n",
      "Did you know that you can help us produce ebooks\n",
      "by proof-reading just one page a day?\n",
      "Go to: Distributed Proofreaders\n",
      "\n",
      "\n",
      "\n",
      "Top 100\n",
      "\n",
      "\n",
      "To determine the ranking we count the times each file gets downloaded.\n",
      "Both HTTP and FTP transfers are counted.\n",
      "Only transfers from ibiblio.org are counted as we have no access to our mirrors log files.\n",
      "Multiple downloads from the same IP address on the same day count as one download.\n",
      "IP addresses that download more than 100 files a day are considered\n",
      "robots and are not considered.\n",
      "Books made out of multiple files like most audio books are counted\n",
      "if any file is downloaded.\n",
      "\n",
      "Downloaded Books\n",
      "2020-05-15209049\n",
      "last 7 days1549367\n",
      "last 30 days7335005\n",
      "\n",
      "Pretty Pictures\n",
      "\n",
      "Top 100 EBooks yesterday —\n",
      "  Top 100 Authors yesterday —\n",
      "  Top 100 EBooks last 7 days —\n",
      "  Top 100 Authors last 7 days —\n",
      "  Top 100 EBooks last 30 days —\n",
      "  Top 100 Authors last 30 days\n",
      "\n",
      "Top 100 EBooks yesterday\n",
      "\n",
      "Pride and Prejudice by Jane Austen (2185)\n",
      "Alice's Adventures in Wonderland by Lewis Carroll (1506)\n",
      "Frankenstein; Or, The Modern Prometheus by Mary Wollstonecraft Shelley (1261)\n",
      "The Adventures of Tom Sawyer by Mark Twain (1021)\n",
      "A Tale of Two Cities by Charles Dickens (968)\n",
      "The Works of Edgar Allan Poe, The Raven Edition by Edgar Allan Poe (934)\n",
      "The Yellow Wallpaper by Charlotte Perkins Gilman (919)\n",
      "The Strange Case of Dr. Jekyll and Mr. Hyde by Robert Louis Stevenson (906)\n",
      "Ion by Plato (885)\n",
      "Moby Dick; Or, The Whale by Herman Melville (874)\n",
      "The Importance of Being Earnest: A Trivial Comedy \n"
     ]
    }
   ],
   "source": [
    "print(soup.text[:2000])           # 9 printing first 2000 characters"
   ]
  },
  {
   "cell_type": "code",
   "execution_count": 14,
   "metadata": {},
   "outputs": [],
   "source": [
    "#  10 - empty list to place list of Ebook names\n",
    "titles_file=[]"
   ]
  },
  {
   "cell_type": "code",
   "execution_count": 15,
   "metadata": {},
   "outputs": [],
   "source": [
    "start_idx=soup.text.splitlines().index('Top 100 EBooks yesterday')      # creating an index, using splitlines to split lines of the soup object."
   ]
  },
  {
   "cell_type": "code",
   "execution_count": 16,
   "metadata": {},
   "outputs": [],
   "source": [
    "for i in range(100):                           # looping the first 100 to the next 100 into the titles_files list\n",
    "    titles_file.append(soup.text.splitlines()[start_idx+2+i])"
   ]
  },
  {
   "cell_type": "code",
   "execution_count": 17,
   "metadata": {},
   "outputs": [],
   "source": [
    "titles=[]                                      # using match and span to extract only text from name string and append to titles list\n",
    "for i in range(100):\n",
    "    id1,id2=re.match('^[a-zA-Z ]*',titles_file[i]).span()\n",
    "    titles.append(titles_file[i][id1:id2])"
   ]
  },
  {
   "cell_type": "code",
   "execution_count": 18,
   "metadata": {},
   "outputs": [
    {
     "name": "stdout",
     "output_type": "stream",
     "text": [
      "Pride and Prejudice by Jane Austen \n",
      "Alice\n",
      "Frankenstein\n",
      "The Adventures of Tom Sawyer by Mark Twain \n",
      "A Tale of Two Cities by Charles Dickens \n",
      "The Works of Edgar Allan Poe\n",
      "The Yellow Wallpaper by Charlotte Perkins Gilman \n",
      "The Strange Case of Dr\n",
      "Ion by Plato \n",
      "Moby Dick\n",
      "The Importance of Being Earnest\n",
      "A Modest Proposal by Jonathan Swift \n",
      "Treasure Island by Robert Louis Stevenson \n",
      "Et dukkehjem\n",
      "The Call of the Wild by Jack London \n",
      "Adventures of Huckleberry Finn by Mark Twain \n",
      "The Adventures of Sherlock Holmes by Arthur Conan Doyle \n",
      "Anthem by Ayn Rand \n",
      "A Christmas Carol in Prose\n",
      "The Picture of Dorian Gray by Oscar Wilde \n",
      "A Journal of the Plague Year by Daniel Defoe \n",
      "Metamorphosis by Franz Kafka \n",
      "Little Women by Louisa May Alcott \n",
      "Dracula by Bram Stoker \n",
      "Great Expectations by Charles Dickens \n",
      "Peter Pan by J\n",
      "The Count of Monte Cristo\n",
      "Grimms\n",
      "Jane Eyre\n",
      "Walden\n",
      "War and Peace by graf Leo Tolstoy \n",
      "The Wonderful Wizard of Oz by L\n",
      "The Hound of the Baskervilles by Arthur Conan Doyle \n",
      "Beowulf\n",
      "Ulysses by James Joyce \n",
      "Anne of Green Gables by L\n",
      "Il Principe\n",
      "The Secret Garden by Frances Hodgson Burnett \n",
      "The Scarlet Letter by Nathaniel Hawthorne \n",
      "Emma by Jane Austen \n",
      "Dubliners by James Joyce \n",
      "The War of the Worlds by H\n",
      "The Masque of the Red Death by Edgar Allan Poe \n",
      "Siddhartha by Hermann Hesse \n",
      "The Sign of the Four by Arthur Conan Doyle \n",
      "The Brothers Karamazov by Fyodor Dostoyevsky \n",
      "Oliver Twist by Charles Dickens \n",
      "Wuthering Heights by Emily Bront\n",
      "Heart of Darkness by Joseph Conrad \n",
      "The Kama Sutra of Vatsyayana by Vatsyayana \n",
      "The Republic by Plato \n",
      "The Awakening\n",
      "Frankenstein\n",
      "Tractatus Logico\n",
      "The Prophet by Kahlil Gibran \n",
      "Prestuplenie i nakazanie\n",
      "The Jungle Book by Rudyard Kipling \n",
      "London in the Time of the Tudors by Walter Besant \n",
      "The Wonderful Wizard of Oz by L\n",
      "Pygmalion by Bernard Shaw \n",
      "The Iliad by Homer \n",
      "A History of Epidemics in Britain\n",
      "Also sprach Zarathustra\n",
      "A History of Story\n",
      "Uncle Tom\n",
      "A Study in Scarlet by Arthur Conan Doyle \n",
      "Essays of Michel de Montaigne \n",
      "The Time Machine by H\n",
      "The Mysterious Affair at Styles by Agatha Christie \n",
      "The Secret Garden by Frances Hodgson Burnett \n",
      "The Valley of Fear by Arthur Conan Doyle \n",
      "Index of Project Gutenberg Works on Black History by Various \n",
      "Les Mis\n",
      "The Souls of Black Folk by W\n",
      "Don Quixote by Miguel de Cervantes Saavedra \n",
      "An Index of The Divine Comedy by Dante by Dante Alighieri \n",
      "Candide by Voltaire \n",
      "Edbr\n",
      "The Decameron of Giovanni Boccaccio by Giovanni Boccaccio \n",
      "Alice\n",
      "The Memoirs\n",
      "Anna Karenina by graf Leo Tolstoy \n",
      "The Life and Adventures of Robinson Crusoe by Daniel Defoe \n",
      "Sense and Sensibility by Jane Austen \n",
      "Beyond Good and Evil by Friedrich Wilhelm Nietzsche \n",
      "Leviathan by Thomas Hobbes \n",
      "Meditations by Emperor of Rome Marcus Aurelius \n",
      "A Pickle for the Knowing Ones by Timothy Dexter \n",
      "Venus Enslaved by Manly Wade Wellman \n",
      "Gulliver\n",
      "Calculus Made Easy by Silvanus P\n",
      "David Copperfield by Charles Dickens \n",
      "Divine Comedy\n",
      "Water Power for the Farm and Country Home by David R\n",
      "The Odyssey by Homer \n",
      "Leaves of Grass by Walt Whitman \n",
      "The Turn of the Screw by Henry James \n",
      "The Slang Dictionary\n",
      "Persuasion by Jane Austen \n",
      "The Jungle by Upton Sinclair \n"
     ]
    }
   ],
   "source": [
    "for t in titles:                           # printing the list\n",
    "    print(t)"
   ]
  },
  {
   "cell_type": "code",
   "execution_count": null,
   "metadata": {},
   "outputs": [],
   "source": []
  },
  {
   "cell_type": "code",
   "execution_count": 19,
   "metadata": {},
   "outputs": [],
   "source": [
    "# Activity 10\n"
   ]
  },
  {
   "cell_type": "code",
   "execution_count": 20,
   "metadata": {},
   "outputs": [],
   "source": [
    "import urllib.request, urllib.parse, urllib.error\n",
    "import json\n"
   ]
  },
  {
   "cell_type": "code",
   "execution_count": 21,
   "metadata": {},
   "outputs": [],
   "source": [
    "with open('APIkeys.json') as f:\n",
    "    keys = json.load(f)\n",
    "    omdbapi = keys['omdbapi']"
   ]
  },
  {
   "cell_type": "code",
   "execution_count": 22,
   "metadata": {},
   "outputs": [],
   "source": [
    "service_url = 'http://www.omdbapi.com/?'            #assigning OMDB portal as string\n",
    "api_key = '&apikey='+omdbapi                        # varible api_key created with last portion of URL"
   ]
  },
  {
   "cell_type": "code",
   "execution_count": 23,
   "metadata": {},
   "outputs": [],
   "source": [
    "def print_json(json_data):                          # creating function to print movie data from JSON file.\n",
    "    list_keys=['Title', 'Year', 'Rated', 'Released', 'Runtime', 'Genre', 'Director', 'Writer', \n",
    "               'Actors', 'Plot', 'Language', 'Country', 'Awards', 'Ratings', \n",
    "               'Metascore', 'imdbRating', 'imdbVotes', 'imdbID']\n",
    "    print(\"-\"*50)\n",
    "    for k in list_keys:\n",
    "        if k in list(json_data.keys()):\n",
    "            print(f\"{k}: {json_data[k]}\")\n",
    "    print(\"-\"*50)"
   ]
  },
  {
   "cell_type": "code",
   "execution_count": 24,
   "metadata": {},
   "outputs": [],
   "source": [
    "def poster_save(json_data):              # saving poster data as a image file\n",
    "    import os\n",
    "    title = json_data['Title']\n",
    "    poster_url = json_data['Poster']\n",
    "    poster_file_extension=poster_url.split('.')[-1]   # Splits the poster url with periods and picks up the last string as file extension\n",
    "    poster_data = urllib.request.urlopen(poster_url).read()  # Reads the file from web\n",
    "    savelocation=os.getcwd()+'\\\\'+'Posters'+'\\\\'\n",
    "    if not os.path.isdir(savelocation):              # this will create new directory if there is no directory. \n",
    "        os.mkdir(savelocation)\n",
    "    \n",
    "    filename=savelocation+str(title)+'.'+poster_file_extension\n",
    "    f=open(filename,'wb')\n",
    "    f.write(poster_data)\n",
    "    f.close()"
   ]
  },
  {
   "cell_type": "code",
   "execution_count": 25,
   "metadata": {},
   "outputs": [],
   "source": [
    "def search_movie(title):                    # function to search for a movie by its name, and will print the json data and save the movie poster in local folder.\n",
    "    try:\n",
    "        url = service_url + urllib.parse.urlencode({'t': str(title)})+api_key\n",
    "        print(f'Retrieving the data of \"{title}\" now... ')\n",
    "        print(url)\n",
    "        uh = urllib.request.urlopen(url)\n",
    "        data = uh.read()\n",
    "        json_data=json.loads(data)\n",
    "        \n",
    "        if json_data['Response']=='True':\n",
    "            print_json(json_data)\n",
    "            if json_data['Poster']!='N/A':        # Asks user whether to download the poster of the movie\n",
    "                poster_save(json_data)\n",
    "        else:\n",
    "            print(\"Error encountered: \",json_data['Error'])\n",
    "    \n",
    "    except urllib.error.URLError as e:\n",
    "        print(f\"ERROR: {e.reason}\")"
   ]
  },
  {
   "cell_type": "code",
   "execution_count": 26,
   "metadata": {},
   "outputs": [
    {
     "name": "stdout",
     "output_type": "stream",
     "text": [
      "Retrieving the data of \"Titanic\" now... \n",
      "http://www.omdbapi.com/?t=Titanic&apikey=10075c4b\n",
      "--------------------------------------------------\n",
      "Title: Titanic\n",
      "Year: 1997\n",
      "Rated: PG-13\n",
      "Released: 19 Dec 1997\n",
      "Runtime: 194 min\n",
      "Genre: Drama, Romance\n",
      "Director: James Cameron\n",
      "Writer: James Cameron\n",
      "Actors: Leonardo DiCaprio, Kate Winslet, Billy Zane, Kathy Bates\n",
      "Plot: A seventeen-year-old aristocrat falls in love with a kind but poor artist aboard the luxurious, ill-fated R.M.S. Titanic.\n",
      "Language: English, Swedish, Italian\n",
      "Country: USA\n",
      "Awards: Won 11 Oscars. Another 114 wins & 83 nominations.\n",
      "Ratings: [{'Source': 'Internet Movie Database', 'Value': '7.8/10'}, {'Source': 'Rotten Tomatoes', 'Value': '89%'}, {'Source': 'Metacritic', 'Value': '75/100'}]\n",
      "Metascore: 75\n",
      "imdbRating: 7.8\n",
      "imdbVotes: 1,004,959\n",
      "imdbID: tt0120338\n",
      "--------------------------------------------------\n"
     ]
    }
   ],
   "source": [
    "search_movie(\"Titanic\")             # lets test the search function and search for the titanic movie"
   ]
  },
  {
   "cell_type": "code",
   "execution_count": 27,
   "metadata": {},
   "outputs": [
    {
     "name": "stdout",
     "output_type": "stream",
     "text": [
      "Retrieving the data of \"/\" now... \n",
      "http://www.omdbapi.com/?t=%2F&apikey=10075c4b\n",
      "Error encountered:  Movie not found!\n"
     ]
    }
   ],
   "source": [
    "search_movie(\"/\")             # entered bogus name to ensure search works and it does work."
   ]
  },
  {
   "cell_type": "code",
   "execution_count": null,
   "metadata": {},
   "outputs": [],
   "source": []
  },
  {
   "cell_type": "code",
   "execution_count": 28,
   "metadata": {},
   "outputs": [],
   "source": [
    "# Activity 3 Twitter\n",
    "\n",
    "import twitter\n",
    "import os\n"
   ]
  },
  {
   "cell_type": "code",
   "execution_count": 29,
   "metadata": {},
   "outputs": [],
   "source": [
    "api = twitter.Api(consumer_key='jjjjjjjjjjjjjjjj',\n",
    "  consumer_secret='jjjjjjjjjjjjjjjjjjjjj',\n",
    "    access_token_key='jjjjjjjjjjjjjjjjjj',\n",
    "    access_token_secret='jjjjjjjjjjjjjjjjj')"
   ]
  },
  {
   "cell_type": "code",
   "execution_count": null,
   "metadata": {},
   "outputs": [],
   "source": [
    "print(api.VerifyCredentials())"
   ]
  },
  {
   "cell_type": "code",
   "execution_count": 31,
   "metadata": {},
   "outputs": [
    {
     "name": "stdout",
     "output_type": "stream",
     "text": [
      "[\"All four of these women grew up in foster care and attend or have graduated from Bellevue University. They've overc… https://t.co/9LiOwLM4ge\", 'Moms are heroes. 💛💜 Happy #MothersDay. https://t.co/pcZFOceuMd', 'Thank you, teachers. 🍎 #NationalTeachersWeek https://t.co/ulqeKuntHu', \"We wish we were parading today in celebration of #CincodeMayo.✨🇲🇽 We're still celebrating from home! ★ Pictures fro… https://t.co/HwZsly3VwQ\", '@BellevueWBB Happy birthday!!', 'Our President, Dr. Mary Hawkins, was recently interviewed by our Dr. Emad Rahim for Intelligent HQ. Get inside the… https://t.co/i9Ka9JM9Jt', 'RT @TodayWithBBB: BBB &amp; @AARPNE present online workshops - Protect Yourself and Your Family in This Crazy Online World feat. @RonW123, @Bel…', \"@Badgerseeker That is so great to hear, Ashley! We're happy for you. We'd love to learn more –\\xa0can you message us? 🙂\", '@Badgerseeker Congratulations, Ashley! What degree program?', 'RT @crishm: Never doubt the power of a community working together - or the power of a dumpling https://t.co/vZLyRVB4S8 @BellevueLeader @Bel…', 'RT @BellevueLeader: Bellevue University participates in ‘Light it Blue’ campaign https://t.co/eQfWabGtqG', \"RT @corporatelearn: After Mark woke from his coma, he relearned how to write, draw, and letter – his passions. Now, he's earning his BA in…\", '@masschange74 Of course!', 'RT @jkyndt: Biology students continue to publish during coronavirus pandemic. https://t.co/M1rbRXe6Im @BellevueU #ScienceonDisplay #coronav…', \"Throwback to the phase one ground breaking of Bellevue University's Sustainability Lab. We look forward to when our… https://t.co/xbCxrJOfTC\", 'RT @crishm: .@BellevueU introduces new mental health app https://t.co/KThQZtawfT via @bellevueleader', '@Chad_Ballay Hi, Chad. The best way to get assistance with this is to contact Bruin Support at BRUINSupportServices… https://t.co/MMX3fOR8kv', '@SAVEProgram @BirchcrestTiger @WakeRobinElem Wow, great work!  Honored to partner with you.', \"@KevinMelcher Can't wait to see you and the students, Kevin!\", \"RT @SAVEProgram: #SAVE10YearThanks #DailyShoutout #FIRSTpic\\n\\nLooking back on our #1st session at ⭐ @BellevueU ⭐ it's crazy to see how much…\"]\n"
     ]
    }
   ],
   "source": [
    "statuses = api.GetUserTimeline(screen_name='BellevueU')\n",
    "print([s.text for s in statuses])"
   ]
  },
  {
   "cell_type": "code",
   "execution_count": null,
   "metadata": {},
   "outputs": [],
   "source": []
  },
  {
   "cell_type": "code",
   "execution_count": 32,
   "metadata": {},
   "outputs": [],
   "source": [
    "# Activity 4 Visualization\n",
    "\n",
    "import seaborn as sns"
   ]
  },
  {
   "cell_type": "code",
   "execution_count": 33,
   "metadata": {},
   "outputs": [],
   "source": [
    "df = pd.read_csv(\"core_trends.csv\")"
   ]
  },
  {
   "cell_type": "code",
   "execution_count": 34,
   "metadata": {},
   "outputs": [
    {
     "data": {
      "text/plain": [
       "<bound method NDFrame.head of       respid  sample  comp  int_date  lang  cregion  state  density  sfips  \\\n",
       "0          4       1     1    190108     1        3     37        2  37069   \n",
       "1          7       1     1    190108     1        2     39        3  39025   \n",
       "2          9       1     1    190108     1        1     34        4  34025   \n",
       "3         10       1     1    190108     1        2     18        3  18039   \n",
       "4         11       1     1    190114     1        2     26        2  26027   \n",
       "...      ...     ...   ...       ...   ...      ...    ...      ...    ...   \n",
       "1497  300194       2     1    190203     1        4      6        2   6085   \n",
       "1498  300195       2     1    190203     1        4     53        1  53025   \n",
       "1499  300196       2     1    190204     1        1     36        5  36061   \n",
       "1500  300199       2     1    190204     1        4      6        2   6083   \n",
       "1501  300200       2     1    190205     1        3     48        2  48027   \n",
       "\n",
       "     usr  ... inc  party  partyln  hh1 hh3  ql1  ql1a qc1    weight cellweight  \n",
       "0      S  ...   3      2             2   2    1            1.143827             \n",
       "1      S  ...   8      1             2   2    1            0.611493             \n",
       "2      S  ...   7      1             2   2    1            0.424797             \n",
       "3      S  ...   6      3        2    2   2    1            1.323562             \n",
       "4      S  ...   7      3        1    2   2    1            0.639452             \n",
       "...   ..  ...  ..    ...      ...  ...  ..  ...   ...  ..       ...        ...  \n",
       "1497   S  ...   4      4        2    2   2              1  1.057235  1.4971284  \n",
       "1498   R  ...   9      9        9    5   5              1  0.736451  0.6277294  \n",
       "1499   U  ...   8      4        2    5   4              1  0.622202   0.465119  \n",
       "1500   S  ...  99      3        1    4   3              1  0.554921  0.5756087  \n",
       "1501   U  ...   8      3        8    3   2              2  1.432665  1.0342955  \n",
       "\n",
       "[1502 rows x 74 columns]>"
      ]
     },
     "execution_count": 34,
     "metadata": {},
     "output_type": "execute_result"
    }
   ],
   "source": [
    "df.head\n"
   ]
  },
  {
   "cell_type": "code",
   "execution_count": 35,
   "metadata": {},
   "outputs": [
    {
     "data": {
      "text/plain": [
       "<matplotlib.axes._subplots.AxesSubplot at 0x259a582ab08>"
      ]
     },
     "execution_count": 35,
     "metadata": {},
     "output_type": "execute_result"
    },
    {
     "data": {
      "image/png": "[encoded data removed]",
      "text/plain": [
       "<Figure size 432x288 with 1 Axes>"
      ]
     },
     "metadata": {
      "needs_background": "light"
     },
     "output_type": "display_data"
    }
   ],
   "source": [
    "# line plot\n",
    "\n",
    "sns.lineplot(data=df, x='inc',y='state')"
   ]
  },
  {
   "cell_type": "code",
   "execution_count": 36,
   "metadata": {},
   "outputs": [
    {
     "data": {
      "text/plain": [
       "<matplotlib.axes._subplots.AxesSubplot at 0x259a6075688>"
      ]
     },
     "execution_count": 36,
     "metadata": {},
     "output_type": "execute_result"
    },
    {
     "data": {
      "image/png": "[encoded data removed]",
      "text/plain": [
       "<Figure size 432x288 with 1 Axes>"
      ]
     },
     "metadata": {
      "needs_background": "light"
     },
     "output_type": "display_data"
    }
   ],
   "source": [
    "sns.scatterplot(x='sfips', y='state', data=df)   #scatterplot"
   ]
  },
  {
   "cell_type": "code",
   "execution_count": 37,
   "metadata": {},
   "outputs": [
    {
     "data": {
      "text/plain": [
       "<matplotlib.axes._subplots.AxesSubplot at 0x259a615e388>"
      ]
     },
     "execution_count": 37,
     "metadata": {},
     "output_type": "execute_result"
    },
    {
     "data": {
      "image/png": "[encoded data removed]",
      "text/plain": [
       "<Figure size 432x288 with 1 Axes>"
      ]
     },
     "metadata": {
      "needs_background": "light"
     },
     "output_type": "display_data"
    }
   ],
   "source": [
    "# creating bar plot\n",
    "\n",
    "sns.barplot(x= 'cregion',y= 'state', data=df)"
   ]
  },
  {
   "cell_type": "code",
   "execution_count": 38,
   "metadata": {},
   "outputs": [
    {
     "data": {
      "text/plain": [
       "<matplotlib.axes._subplots.AxesSubplot at 0x259a61ba108>"
      ]
     },
     "execution_count": 38,
     "metadata": {},
     "output_type": "execute_result"
    },
    {
     "data": {
      "image/png": "[encoded data removed]",
      "text/plain": [
       "<Figure size 432x288 with 1 Axes>"
      ]
     },
     "metadata": {
      "needs_background": "light"
     },
     "output_type": "display_data"
    }
   ],
   "source": [
    "# creating histogram\n",
    "\n",
    "sns.distplot( df[\"state\"] )"
   ]
  },
  {
   "cell_type": "code",
   "execution_count": null,
   "metadata": {},
   "outputs": [],
   "source": []
  },
  {
   "cell_type": "code",
   "execution_count": null,
   "metadata": {},
   "outputs": [],
   "source": []
  }
 ],
 "metadata": {
  "kernelspec": {
   "display_name": "Python 3",
   "language": "python",
   "name": "python3"
  },
  "language_info": {
   "codemirror_mode": {
    "name": "ipython",
    "version": 3
   },
   "file_extension": ".py",
   "mimetype": "text/x-python",
   "name": "python",
   "nbconvert_exporter": "python",
   "pygments_lexer": "ipython3",
   "version": "3.8.8"
  }
 },
 "nbformat": 4,
 "nbformat_minor": 2
}
